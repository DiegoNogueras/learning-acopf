{
 "cells": [
  {
   "cell_type": "code",
   "execution_count": 1,
   "metadata": {},
   "outputs": [],
   "source": [
    "import helper_functions as hp\n",
    "import pandas as pd\n",
    "import bus_bounds_data as bb_data"
   ]
  },
  {
   "cell_type": "code",
   "execution_count": 2,
   "metadata": {},
   "outputs": [],
   "source": [
    "generated_data = \"../../case118_data4.csv\"\n",
    "X_train, X_test, y_train, y_test, df, slack_bus_data, scaler = hp.pre_process_data_from_file(file_path=generated_data)"
   ]
  },
  {
   "cell_type": "code",
   "execution_count": 3,
   "metadata": {},
   "outputs": [
    {
     "name": "stdout",
     "output_type": "stream",
     "text": [
      "Epoch 1/200\n"
     ]
    },
    {
     "name": "stderr",
     "output_type": "stream",
     "text": [
      "2022-08-04 10:27:13.009662: I tensorflow/core/platform/cpu_feature_guard.cc:193] This TensorFlow binary is optimized with oneAPI Deep Neural Network Library (oneDNN) to use the following CPU instructions in performance-critical operations:  AVX2 FMA\n",
      "To enable them in other operations, rebuild TensorFlow with the appropriate compiler flags.\n"
     ]
    },
    {
     "name": "stdout",
     "output_type": "stream",
     "text": [
      "2188/2188 [==============================] - 7s 3ms/step - loss: 0.0014 - val_loss: 5.5699e-04\n",
      "Epoch 2/200\n",
      "2188/2188 [==============================] - 6s 3ms/step - loss: 4.6603e-04 - val_loss: 2.7930e-04\n",
      "Epoch 3/200\n",
      "2188/2188 [==============================] - 6s 3ms/step - loss: 2.7927e-04 - val_loss: 2.5179e-04\n",
      "Epoch 4/200\n",
      "2188/2188 [==============================] - 6s 3ms/step - loss: 2.1932e-04 - val_loss: 1.7813e-04\n",
      "Epoch 5/200\n",
      "2188/2188 [==============================] - 6s 3ms/step - loss: 1.9015e-04 - val_loss: 1.6399e-04\n",
      "Epoch 6/200\n",
      "2188/2188 [==============================] - 6s 3ms/step - loss: 1.7596e-04 - val_loss: 1.5169e-04\n",
      "Epoch 7/200\n",
      "2188/2188 [==============================] - 6s 3ms/step - loss: 1.6496e-04 - val_loss: 1.6710e-04\n",
      "Epoch 8/200\n",
      "2188/2188 [==============================] - 6s 3ms/step - loss: 1.6147e-04 - val_loss: 2.0976e-04\n",
      "Epoch 9/200\n",
      "2188/2188 [==============================] - 6s 3ms/step - loss: 1.5637e-04 - val_loss: 1.8050e-04\n",
      "Epoch 10/200\n",
      "2188/2188 [==============================] - 6s 3ms/step - loss: 1.4942e-04 - val_loss: 1.2783e-04\n",
      "Epoch 11/200\n",
      "2188/2188 [==============================] - 6s 3ms/step - loss: 1.4475e-04 - val_loss: 1.3615e-04\n",
      "Epoch 12/200\n",
      "2188/2188 [==============================] - 7s 3ms/step - loss: 1.4152e-04 - val_loss: 1.7290e-04\n",
      "Epoch 13/200\n",
      "2188/2188 [==============================] - 6s 3ms/step - loss: 1.3694e-04 - val_loss: 1.2680e-04\n",
      "Epoch 14/200\n",
      "2188/2188 [==============================] - 6s 3ms/step - loss: 1.3377e-04 - val_loss: 1.1338e-04\n",
      "Epoch 15/200\n",
      "2188/2188 [==============================] - 6s 3ms/step - loss: 1.2611e-04 - val_loss: 1.4536e-04\n",
      "Epoch 16/200\n",
      "2188/2188 [==============================] - 7s 3ms/step - loss: 1.2368e-04 - val_loss: 1.0046e-04\n",
      "Epoch 17/200\n",
      "2188/2188 [==============================] - 7s 3ms/step - loss: 1.1952e-04 - val_loss: 1.1912e-04\n",
      "Epoch 18/200\n",
      "2188/2188 [==============================] - 6s 3ms/step - loss: 1.1613e-04 - val_loss: 1.1835e-04\n",
      "Epoch 19/200\n",
      "2188/2188 [==============================] - 6s 3ms/step - loss: 1.1134e-04 - val_loss: 1.0456e-04\n",
      "Epoch 20/200\n",
      "2188/2188 [==============================] - 6s 3ms/step - loss: 1.1390e-04 - val_loss: 1.1369e-04\n",
      "Epoch 21/200\n",
      "2188/2188 [==============================] - 6s 3ms/step - loss: 1.1101e-04 - val_loss: 9.5278e-05\n",
      "Epoch 22/200\n",
      "2188/2188 [==============================] - 6s 3ms/step - loss: 1.0841e-04 - val_loss: 9.2884e-05\n",
      "Epoch 23/200\n",
      "2188/2188 [==============================] - 6s 3ms/step - loss: 1.0519e-04 - val_loss: 1.3834e-04\n",
      "Epoch 24/200\n",
      "2188/2188 [==============================] - 6s 3ms/step - loss: 1.0522e-04 - val_loss: 9.3550e-05\n",
      "Epoch 25/200\n",
      "2188/2188 [==============================] - 6s 3ms/step - loss: 1.0483e-04 - val_loss: 1.1937e-04\n",
      "Epoch 26/200\n",
      "2188/2188 [==============================] - 6s 3ms/step - loss: 1.0405e-04 - val_loss: 9.0522e-05\n",
      "Epoch 27/200\n",
      "2188/2188 [==============================] - 7s 3ms/step - loss: 1.0545e-04 - val_loss: 1.5202e-04\n",
      "Epoch 28/200\n",
      "2188/2188 [==============================] - 6s 3ms/step - loss: 9.9307e-05 - val_loss: 9.7598e-05\n",
      "Epoch 29/200\n",
      "2188/2188 [==============================] - 6s 3ms/step - loss: 9.9281e-05 - val_loss: 9.7923e-05\n",
      "Epoch 30/200\n",
      "2188/2188 [==============================] - 6s 3ms/step - loss: 9.7982e-05 - val_loss: 1.1394e-04\n",
      "Epoch 31/200\n",
      "2188/2188 [==============================] - 6s 3ms/step - loss: 9.8695e-05 - val_loss: 9.1073e-05\n",
      "Epoch 32/200\n",
      "2188/2188 [==============================] - 6s 3ms/step - loss: 9.4394e-05 - val_loss: 9.6421e-05\n",
      "Epoch 33/200\n",
      "2188/2188 [==============================] - 7s 3ms/step - loss: 9.3982e-05 - val_loss: 7.4792e-05\n",
      "Epoch 34/200\n",
      "2188/2188 [==============================] - 6s 3ms/step - loss: 9.4114e-05 - val_loss: 7.2481e-05\n",
      "Epoch 35/200\n",
      "2188/2188 [==============================] - 6s 3ms/step - loss: 9.2380e-05 - val_loss: 9.2000e-05\n",
      "Epoch 36/200\n",
      "2188/2188 [==============================] - 6s 3ms/step - loss: 9.3022e-05 - val_loss: 6.9346e-05\n",
      "Epoch 37/200\n",
      "2188/2188 [==============================] - 7s 3ms/step - loss: 9.5299e-05 - val_loss: 7.3958e-05\n",
      "Epoch 38/200\n",
      "2188/2188 [==============================] - 7s 3ms/step - loss: 8.8604e-05 - val_loss: 8.3447e-05\n",
      "Epoch 39/200\n",
      "2188/2188 [==============================] - 6s 3ms/step - loss: 9.0186e-05 - val_loss: 7.1314e-05\n",
      "Epoch 40/200\n",
      "2188/2188 [==============================] - 7s 3ms/step - loss: 9.1760e-05 - val_loss: 8.6540e-05\n",
      "Epoch 41/200\n",
      "2188/2188 [==============================] - 7s 3ms/step - loss: 8.8422e-05 - val_loss: 8.2542e-05\n",
      "Epoch 42/200\n",
      "2188/2188 [==============================] - 6s 3ms/step - loss: 9.1402e-05 - val_loss: 1.1678e-04\n",
      "Epoch 43/200\n",
      "2188/2188 [==============================] - 7s 3ms/step - loss: 8.8204e-05 - val_loss: 7.0937e-05\n",
      "Epoch 44/200\n",
      "2188/2188 [==============================] - 7s 3ms/step - loss: 8.7267e-05 - val_loss: 8.9517e-05\n",
      "Epoch 45/200\n",
      "2188/2188 [==============================] - 7s 3ms/step - loss: 8.4559e-05 - val_loss: 7.1735e-05\n",
      "Epoch 46/200\n",
      "2188/2188 [==============================] - 6s 3ms/step - loss: 8.9597e-05 - val_loss: 8.0125e-05\n"
     ]
    },
    {
     "data": {
      "image/png": "[encoded data removed]",
      "text/plain": [
       "<Figure size 432x288 with 1 Axes>"
      ]
     },
     "metadata": {
      "needs_background": "light"
     },
     "output_type": "display_data"
    }
   ],
   "source": [
    "model = hp.train_model(X_train, X_test, y_train, y_test, plot_losses=True)"
   ]
  },
  {
   "cell_type": "code",
   "execution_count": 4,
   "metadata": {},
   "outputs": [
    {
     "name": "stdout",
     "output_type": "stream",
     "text": [
      "938/938 [==============================] - 1s 1ms/step\n"
     ]
    }
   ],
   "source": [
    "y_pred = model.predict(X_test)\n",
    "label_cols = hp.get_label_cols()\n",
    "y_test_df = pd.DataFrame(data=y_test, columns=label_cols)\n",
    "y_pred_df = pd.DataFrame(data=y_pred, columns=label_cols)"
   ]
  },
  {
   "cell_type": "code",
   "execution_count": 5,
   "metadata": {},
   "outputs": [],
   "source": [
    "X_train, X_test = hp.unscale_data(X_train, X_test, scaler)"
   ]
  },
  {
   "cell_type": "code",
   "execution_count": 6,
   "metadata": {},
   "outputs": [],
   "source": [
    "v_min = 0.94\n",
    "v_max = 1.06\n",
    "for col, p_bounds_key in zip(label_cols[::2], bb_data.p_bounds.keys()):\n",
    "    p_min = bb_data.p_bounds[p_bounds_key]['p_min']\n",
    "    p_max = bb_data.p_bounds[p_bounds_key]['p_max']\n",
    "    y_test_df[col] = y_test_df[col].apply(lambda x : hp.unparametrize_func(x, p_min, p_max))\n",
    "    y_pred_df[col] = y_pred_df[col].apply(lambda x : hp.unparametrize_func(x, p_min, p_max))\n",
    "\n",
    "for col in label_cols[1::2]:\n",
    "    y_test_df[col] = y_test_df[col].apply(lambda x : hp.unparametrize_func(x, v_min, v_max))\n",
    "    y_pred_df[col] = y_pred_df[col].apply(lambda x : hp.unparametrize_func(x, v_min, v_max))"
   ]
  },
  {
   "cell_type": "code",
   "execution_count": 7,
   "metadata": {},
   "outputs": [
    {
     "name": "stdout",
     "output_type": "stream",
     "text": [
      "Results of Active Power Generation:\n",
      "MAE : 0.09759899097052781\n",
      "MSE : 0.03529371058911351\n",
      "RMSE : 0.18786620395673487\n",
      "\n",
      "Results of Voltage Generation:\n",
      "MAE : 6.9580882091607e-05\n",
      "MSE : 2.2871698013801343e-06\n",
      "RMSE : 0.0015123391819893228\n"
     ]
    }
   ],
   "source": [
    "hp.evaluate_model(y_test_df, y_pred_df)"
   ]
  },
  {
   "cell_type": "code",
   "execution_count": null,
   "metadata": {},
   "outputs": [],
   "source": [
    "# MODEL #6 RESULTS\n",
    "\n",
    "# Results of Active Power Generation:\n",
    "# MAE : 0.09759899097052781\n",
    "# MSE : 0.03529371058911351\n",
    "# RMSE : 0.18786620395673487\n",
    "\n",
    "# Results of Voltage Generation:\n",
    "# MAE : 6.9580882091607e-05\n",
    "# MSE : 2.2871698013801343e-06\n",
    "# RMSE : 0.0015123391819893228"
   ]
  },
  {
   "cell_type": "code",
   "execution_count": 9,
   "metadata": {},
   "outputs": [],
   "source": [
    "# model.save(\"../../saved_models/acopf_model7.h5\")"
   ]
  },
  {
   "cell_type": "code",
   "execution_count": null,
   "metadata": {},
   "outputs": [],
   "source": []
  }
 ],
 "metadata": {
  "kernelspec": {
   "display_name": "Python 3.10.4 ('acopf_env')",
   "language": "python",
   "name": "python3"
  },
  "language_info": {
   "codemirror_mode": {
    "name": "ipython",
    "version": 3
   },
   "file_extension": ".py",
   "mimetype": "text/x-python",
   "name": "python",
   "nbconvert_exporter": "python",
   "pygments_lexer": "ipython3",
   "version": "3.10.4"
  },
  "orig_nbformat": 4,
  "vscode": {
   "interpreter": {
    "hash": "372c385abd6fb764a5399e47ff602b4c4d1b4bb74649debac8dcd16a59044be5"
   }
  }
 },
 "nbformat": 4,
 "nbformat_minor": 2
}
