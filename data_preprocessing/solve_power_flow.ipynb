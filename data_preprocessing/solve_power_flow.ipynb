{
 "cells": [
  {
   "cell_type": "code",
   "execution_count": 1,
   "metadata": {},
   "outputs": [],
   "source": [
    "import helper_functions as hp\n",
    "import pandas as pd\n",
    "import numpy as np\n",
    "import bus_bounds_data as bb_data\n",
    "from pypower.case118 import case118\n",
    "from pypower.savecase import savecase\n",
    "from keras.models import load_model\n",
    "from egret.models.acpf import solve_acpf\n",
    "from egret.parsers.matpower_parser import create_ModelData"
   ]
  },
  {
   "cell_type": "code",
   "execution_count": 2,
   "metadata": {},
   "outputs": [],
   "source": [
    "generated_data = \"case118_data3.csv\"\n",
    "X_train, X_test, y_train, y_test, df, slack_bus_data, scaler = hp.pre_process_data_from_file(file_path=generated_data)"
   ]
  },
  {
   "cell_type": "code",
   "execution_count": 3,
   "metadata": {},
   "outputs": [
    {
     "name": "stderr",
     "output_type": "stream",
     "text": [
      "2022-07-26 14:12:02.740946: I tensorflow/core/platform/cpu_feature_guard.cc:193] This TensorFlow binary is optimized with oneAPI Deep Neural Network Library (oneDNN) to use the following CPU instructions in performance-critical operations:  AVX2 FMA\n",
      "To enable them in other operations, rebuild TensorFlow with the appropriate compiler flags.\n"
     ]
    }
   ],
   "source": [
    "previous_model = True\n",
    "if not previous_model:\n",
    "    model = hp.train_model(X_train, X_test, y_train, y_test, plot_losses=True)\n",
    "    model.save(\"../saved_models/acopf_model6.h5\") # Change model number to not overwrite a previous model\n",
    "else:\n",
    "    model_path = \"../saved_models/acopf_model5.h5\"\n",
    "    model = load_model(model_path)"
   ]
  },
  {
   "cell_type": "code",
   "execution_count": 4,
   "metadata": {},
   "outputs": [
    {
     "name": "stdout",
     "output_type": "stream",
     "text": [
      "938/938 [==============================] - 2s 2ms/step\n"
     ]
    }
   ],
   "source": [
    "y_pred = model.predict(X_test)\n",
    "label_cols = hp.get_label_cols()\n",
    "y_test_df = pd.DataFrame(data=y_test, columns=label_cols)\n",
    "y_pred_df = pd.DataFrame(data=y_pred, columns=label_cols)"
   ]
  },
  {
   "cell_type": "code",
   "execution_count": 5,
   "metadata": {},
   "outputs": [],
   "source": [
    "X_train, X_test = hp.unscale_data(X_train, X_test, scaler)"
   ]
  },
  {
   "cell_type": "code",
   "execution_count": 6,
   "metadata": {},
   "outputs": [],
   "source": [
    "v_min = 0.94\n",
    "v_max = 1.06"
   ]
  },
  {
   "cell_type": "code",
   "execution_count": 7,
   "metadata": {},
   "outputs": [],
   "source": [
    "for col, p_bounds_key in zip(label_cols[::2], bb_data.p_bounds.keys()):\n",
    "    p_min = bb_data.p_bounds[p_bounds_key]['p_min']\n",
    "    p_max = bb_data.p_bounds[p_bounds_key]['p_max']\n",
    "    y_test_df[col] = y_test_df[col].apply(lambda x : hp.unparametrize_func(x, p_min, p_max))\n",
    "    y_pred_df[col] = y_pred_df[col].apply(lambda x : hp.unparametrize_func(x, p_min, p_max))\n",
    "\n",
    "for col in label_cols[1::2]:\n",
    "    y_test_df[col] = y_test_df[col].apply(lambda x : hp.unparametrize_func(x, v_min, v_max))\n",
    "    y_pred_df[col] = y_pred_df[col].apply(lambda x : hp.unparametrize_func(x, v_min, v_max))"
   ]
  },
  {
   "cell_type": "code",
   "execution_count": 8,
   "metadata": {},
   "outputs": [
    {
     "name": "stdout",
     "output_type": "stream",
     "text": [
      "Results of Active Power Generation:\n",
      "MAE : 1.1155068916739554\n",
      "MSE : 11.61746130809883\n",
      "RMSE : 3.4084397175392187\n",
      "\n",
      "Results of Voltage Generation:\n",
      "MAE : 1.4306968503479113e-05\n",
      "MSE : 4.462672696605791e-10\n",
      "RMSE : 2.1125038926841746e-05\n"
     ]
    }
   ],
   "source": [
    "hp.evaluate_model(y_test_df, y_pred_df)"
   ]
  },
  {
   "cell_type": "code",
   "execution_count": 9,
   "metadata": {},
   "outputs": [],
   "source": [
    "bus_gen_nums = hp.get_bus_gen_nums()"
   ]
  },
  {
   "cell_type": "code",
   "execution_count": 10,
   "metadata": {},
   "outputs": [],
   "source": [
    "pv_bus_p_gen = {\"p{}_gen\".format(bus_num) : p_gen\n",
    "                    for bus_num, p_gen in zip(bus_gen_nums, y_pred_df.loc[0, 'p_gen1'::2].values)}"
   ]
  },
  {
   "cell_type": "code",
   "execution_count": 11,
   "metadata": {},
   "outputs": [],
   "source": [
    "pq_bus_p_load = {\"p{}_load\".format(bus_num + 1) : p_load\n",
    "                    for bus_num, p_load in zip(range(118), X_test[0, ::2])}\n",
    "                    \n",
    "pq_bus_q_load = {\"q{}_load\".format(bus_num + 1) : q_load\n",
    "                    for bus_num, q_load in zip(range(118), X_test[0, 1::2])}"
   ]
  },
  {
   "cell_type": "code",
   "execution_count": 12,
   "metadata": {},
   "outputs": [],
   "source": [
    "y = {**pv_bus_p_gen, **pq_bus_p_load, **pq_bus_q_load}"
   ]
  },
  {
   "cell_type": "code",
   "execution_count": 13,
   "metadata": {},
   "outputs": [],
   "source": [
    "unknown_angles = {\"Angle_{}\".format(str(bus_num + 1)) : 0 for bus_num in range(118)}\n",
    "\n",
    "del unknown_angles['Angle_69']"
   ]
  },
  {
   "cell_type": "code",
   "execution_count": 14,
   "metadata": {},
   "outputs": [],
   "source": [
    "unknown_pq_v_mags = {\"Voltage_{}\".format(str(bus_num + 1)) : 1\n",
    "                        for bus_num in range(118) if str(bus_num + 1) not in bus_gen_nums}"
   ]
  },
  {
   "cell_type": "code",
   "execution_count": 15,
   "metadata": {},
   "outputs": [],
   "source": [
    "x = {**unknown_angles, **unknown_pq_v_mags}"
   ]
  },
  {
   "cell_type": "code",
   "execution_count": 16,
   "metadata": {},
   "outputs": [],
   "source": [
    "gen_bus_idx = [bus_num + 1 for bus_num in range(118) if str(bus_num + 1) in bus_gen_nums]"
   ]
  },
  {
   "cell_type": "code",
   "execution_count": 17,
   "metadata": {},
   "outputs": [],
   "source": [
    "known_pv_v_mags = {\"Voltage_{}\".format(bus_num) : y_pred_df.loc[0, \"v_gen1\"::2][idx]\n",
    "                        for bus_num, idx in zip(gen_bus_idx, range(len(gen_bus_idx)))}"
   ]
  },
  {
   "cell_type": "code",
   "execution_count": 18,
   "metadata": {},
   "outputs": [],
   "source": [
    "slack_bus_v = slack_bus_data.values[0][2]\n",
    "slack_bus_a = slack_bus_data.values[0][3]"
   ]
  },
  {
   "cell_type": "code",
   "execution_count": 19,
   "metadata": {},
   "outputs": [],
   "source": [
    "V = []\n",
    "for idx in range(118):\n",
    "    if idx + 1 == 69:\n",
    "        V.append([slack_bus_v, slack_bus_a])\n",
    "    elif str(idx + 1) not in bus_gen_nums:\n",
    "        V.append([x[\"Voltage_{}\".format(idx + 1)], x[\"Angle_{}\".format(idx + 1)]])\n",
    "    else:\n",
    "        V.append([known_pv_v_mags[\"Voltage_{}\".format(idx + 1)], x[\"Angle_{}\".format(idx + 1)]])"
   ]
  },
  {
   "cell_type": "code",
   "execution_count": 20,
   "metadata": {},
   "outputs": [],
   "source": [
    "case118_dict = case118()"
   ]
  },
  {
   "cell_type": "code",
   "execution_count": 21,
   "metadata": {},
   "outputs": [],
   "source": [
    "for idx in range(len(case118_dict['bus'])):\n",
    "    p_key = \"p{}_load\".format(idx + 1)\n",
    "    q_key = \"q{}_load\".format(idx + 1)\n",
    "    case118_dict['bus'][idx][2] = y[p_key]\n",
    "    case118_dict['bus'][idx][3] = y[q_key]\n",
    "    case118_dict['bus'][idx][7] = V[idx][0]\n",
    "    case118_dict['bus'][idx][8] = V[idx][1]"
   ]
  },
  {
   "cell_type": "code",
   "execution_count": 22,
   "metadata": {},
   "outputs": [],
   "source": [
    "V_gen = [v_elem[0] for v_elem in V if v_elem[0] != 1]"
   ]
  },
  {
   "cell_type": "code",
   "execution_count": 23,
   "metadata": {},
   "outputs": [],
   "source": [
    "for idx, bus_num in zip(range(len(case118_dict['gen'])), hp.get_bus_gen_nums(include_slack=True)):\n",
    "    if idx != 29:\n",
    "        p_key = \"p{}_gen\".format(bus_num)\n",
    "        case118_dict['gen'][idx][1] = y[p_key]\n",
    "    else:\n",
    "        case118_dict['gen'][idx][1] = 0\n",
    "        \n",
    "    case118_dict['gen'][idx][5] = V_gen[idx]"
   ]
  },
  {
   "cell_type": "code",
   "execution_count": 24,
   "metadata": {},
   "outputs": [
    {
     "data": {
      "text/plain": [
       "'new_case.py'"
      ]
     },
     "execution_count": 24,
     "metadata": {},
     "output_type": "execute_result"
    }
   ],
   "source": [
    "savecase(\"new_case\", ppc=case118_dict)"
   ]
  },
  {
   "cell_type": "code",
   "execution_count": 25,
   "metadata": {},
   "outputs": [],
   "source": [
    "original_data_path = \"../case118_data/case118.txt\"\n",
    "new_data_path = \"../generated_data/case118.txt\"\n",
    "\n",
    "with open(\"new_case.py\") as f:\n",
    "    lines = f.readlines()\n",
    "    data = lines[12:130]\n",
    "\n",
    "new_data = []\n",
    "for line in data:\n",
    "    line_arr = line.strip()[1:-2].split(\",\")\n",
    "    new_string = \"\"\n",
    "    for element in line_arr:\n",
    "        new_string += element.strip()\n",
    "        new_string += \"    \"\n",
    "    \n",
    "    new_string = new_string[:-4] + \";\"\n",
    "    new_string += \"\\n\"\n",
    "    new_data.append(new_string)\n",
    "\n",
    "with open(original_data_path) as f:\n",
    "    lines = f.readlines()\n",
    "\n",
    "with open(new_data_path, 'w') as f:\n",
    "    f.writelines(lines[:23] + new_data + lines[141:])"
   ]
  },
  {
   "cell_type": "code",
   "execution_count": 26,
   "metadata": {},
   "outputs": [],
   "source": [
    "with open(\"new_case.py\") as f:\n",
    "    lines = f.readlines()\n",
    "    data = lines[135:189]\n",
    "\n",
    "new_data = []\n",
    "for line in data:\n",
    "    line_arr = line.strip()[1:-2].split(\",\")\n",
    "    new_string = \"\"\n",
    "    for element in line_arr:\n",
    "        new_string += element.strip()\n",
    "        new_string += \"    \"\n",
    "    \n",
    "    new_string = new_string[:-4] + \";\"\n",
    "    new_string += \"\\n\"\n",
    "    new_data.append(new_string)\n",
    "\n",
    "with open(new_data_path) as f:\n",
    "    lines = f.readlines()\n",
    "\n",
    "with open(new_data_path, 'w') as f:\n",
    "    f.writelines(lines[:145] + new_data + lines[199:])"
   ]
  },
  {
   "cell_type": "code",
   "execution_count": 27,
   "metadata": {},
   "outputs": [],
   "source": [
    "model_data = create_ModelData(new_data_path)"
   ]
  },
  {
   "cell_type": "code",
   "execution_count": 28,
   "metadata": {},
   "outputs": [],
   "source": [
    "# Hi Jean-Paul, here is where I start using the power flow solver provided by egret\n",
    "md, results = solve_acpf(model_data, \"ipopt\", solver_tee=False, return_results=True)"
   ]
  },
  {
   "cell_type": "code",
   "execution_count": 29,
   "metadata": {},
   "outputs": [
    {
     "name": "stdout",
     "output_type": "stream",
     "text": [
      "Bus 1 :\n",
      "\tReactive Power Generation : 17.126003190350502\n",
      "\t\tViolated Constraint : -5.0 <= 17.126003190350502 <= 15.0\n",
      "Bus 12 :\n",
      "\tReactive Power Generation : 244.12548647752877\n",
      "\t\tViolated Constraint : -35.0 <= 244.12548647752877 <= 120.0\n",
      "Bus 15 :\n",
      "\tReactive Power Generation : -39.82132378728101\n",
      "\t\tViolated Constraint : -10.0 <= -39.82132378728101 <= 30.0\n",
      "Bus 19 :\n",
      "\tReactive Power Generation : -9.8620982395899\n",
      "\t\tViolated Constraint : -8.0 <= -9.8620982395899 <= 24.0\n",
      "Bus 34 :\n",
      "\tReactive Power Generation : -21.421883384570858\n",
      "\t\tViolated Constraint : -8.0 <= -21.421883384570858 <= 24.0\n",
      "Bus 55 :\n",
      "\tReactive Power Generation : -15.709409836354785\n",
      "\t\tViolated Constraint : -8.0 <= -15.709409836354785 <= 23.0\n",
      "Bus 56 :\n",
      "\tReactive Power Generation : 17.664780397495075\n",
      "\t\tViolated Constraint : -8.0 <= 17.664780397495075 <= 15.0\n",
      "Bus 74 :\n",
      "\tReactive Power Generation : 11.145662290941145\n",
      "\t\tViolated Constraint : -6.0 <= 11.145662290941145 <= 9.0\n",
      "Bus 76 :\n",
      "\tReactive Power Generation : -17.92890523374042\n",
      "\t\tViolated Constraint : -8.0 <= -17.92890523374042 <= 23.0\n",
      "Bus 77 :\n",
      "\tReactive Power Generation : 86.0876900591553\n",
      "\t\tViolated Constraint : -20.0 <= 86.0876900591553 <= 70.0\n",
      "Bus 85 :\n",
      "\tReactive Power Generation : 161.19211041845904\n",
      "\t\tViolated Constraint : -8.0 <= 161.19211041845904 <= 23.0\n",
      "Bus 92 :\n",
      "\tReactive Power Generation : -5.200223142553056\n",
      "\t\tViolated Constraint : -3.0 <= -5.200223142553056 <= 9.0\n",
      "Bus 103 :\n",
      "\tReactive Power Generation : 74.49328391834284\n",
      "\t\tViolated Constraint : -15.0 <= 74.49328391834284 <= 40.0\n",
      "Bus 105 :\n",
      "\tReactive Power Generation : -31.642540366639615\n",
      "\t\tViolated Constraint : -8.0 <= -31.642540366639615 <= 23.0\n"
     ]
    }
   ],
   "source": [
    "# Here, we verify that the reactive power constraints were not violated, and if they were,\n",
    "# correct these violations by either setting them to the lower or upper bound\n",
    "\n",
    "q_constraint_violation = False\n",
    "print_qg_violations = True\n",
    "for key in md.data['elements']['generator'].keys():\n",
    "    q_min = md.data['elements']['generator'][key]['q_min']\n",
    "    q_max = md.data['elements']['generator'][key]['q_max']\n",
    "    qg = md.data['elements']['generator'][key]['qg']\n",
    "    if not q_min <= qg <= q_max:\n",
    "        q_constraint_violation = True\n",
    "        if print_qg_violations:\n",
    "            print(\"Bus\", md.data['elements']['generator'][key]['bus'], \":\")\n",
    "            print(\"\\tReactive Power Generation :\", qg)\n",
    "            print(\"\\t\\tViolated Constraint :\", q_min, \"<=\", qg, \"<=\", q_max)\n",
    "\n",
    "        md.data['elements']['generator'][key]['qg'] = min(q_max, max(qg, q_min))"
   ]
  },
  {
   "cell_type": "code",
   "execution_count": 30,
   "metadata": {},
   "outputs": [
    {
     "name": "stdout",
     "output_type": "stream",
     "text": [
      "Bus 2 :\n",
      "\tVoltage Magnitude : 0.8870470833040244\n",
      "\t\tViolated Constraint : 0.94 <= 0.8870470833040244 <= 1.06\n",
      "Bus 20 :\n",
      "\tVoltage Magnitude : 0.9123340907607944\n",
      "\t\tViolated Constraint : 0.94 <= 0.9123340907607944 <= 1.06\n",
      "Bus 21 :\n",
      "\tVoltage Magnitude : 0.8842757939991804\n",
      "\t\tViolated Constraint : 0.94 <= 0.8842757939991804 <= 1.06\n",
      "Bus 22 :\n",
      "\tVoltage Magnitude : 0.9054834687485201\n",
      "\t\tViolated Constraint : 0.94 <= 0.9054834687485201 <= 1.06\n",
      "Bus 51 :\n",
      "\tVoltage Magnitude : 0.9192213998301139\n",
      "\t\tViolated Constraint : 0.94 <= 0.9192213998301139 <= 1.06\n",
      "Bus 52 :\n",
      "\tVoltage Magnitude : 0.9083665008181213\n",
      "\t\tViolated Constraint : 0.94 <= 0.9083665008181213 <= 1.06\n",
      "Bus 53 :\n",
      "\tVoltage Magnitude : 0.9212238051694328\n",
      "\t\tViolated Constraint : 0.94 <= 0.9212238051694328 <= 1.06\n",
      "Bus 58 :\n",
      "\tVoltage Magnitude : 0.9123965283695922\n",
      "\t\tViolated Constraint : 0.94 <= 0.9123965283695922 <= 1.06\n",
      "Bus 86 :\n",
      "\tVoltage Magnitude : 0.9209025513836534\n",
      "\t\tViolated Constraint : 0.94 <= 0.9209025513836534 <= 1.06\n"
     ]
    }
   ],
   "source": [
    "# This part is just for you to see that the voltage magnitudes at some busses are not meeting the constraint\n",
    "\n",
    "print_vm_violations = True\n",
    "if print_vm_violations:\n",
    "    for key in md.data['elements']['bus'].keys():\n",
    "        vm = md.data['elements']['bus'][key]['vm']\n",
    "        if not v_min <= vm <= v_max:\n",
    "            print(\"Bus\", key, \":\")\n",
    "            print(\"\\tVoltage Magnitude :\", vm)\n",
    "            print(\"\\t\\tViolated Constraint :\", v_min, \"<=\", vm, \"<=\", v_max)"
   ]
  },
  {
   "cell_type": "code",
   "execution_count": 31,
   "metadata": {},
   "outputs": [],
   "source": [
    "# If they were reactive power violations, solve the power flow again with the corrected values\n",
    "if q_constraint_violation:\n",
    "    md, results = solve_acpf(md, \"ipopt\", solver_tee=False, return_results=True)"
   ]
  },
  {
   "cell_type": "code",
   "execution_count": 32,
   "metadata": {},
   "outputs": [
    {
     "name": "stdout",
     "output_type": "stream",
     "text": [
      "Bus 1 :\n",
      "\tReactive Power Generation : 17.126003190486458\n",
      "\t\tViolated Constraint : -5.0 <= 17.126003190486458 <= 15.0\n",
      "Bus 12 :\n",
      "\tReactive Power Generation : 244.12548647779846\n",
      "\t\tViolated Constraint : -35.0 <= 244.12548647779846 <= 120.0\n",
      "Bus 15 :\n",
      "\tReactive Power Generation : -39.82132378723966\n",
      "\t\tViolated Constraint : -10.0 <= -39.82132378723966 <= 30.0\n",
      "Bus 19 :\n",
      "\tReactive Power Generation : -9.862098238162522\n",
      "\t\tViolated Constraint : -8.0 <= -9.862098238162522 <= 24.0\n",
      "Bus 34 :\n",
      "\tReactive Power Generation : -21.42188338281757\n",
      "\t\tViolated Constraint : -8.0 <= -21.42188338281757 <= 24.0\n",
      "Bus 55 :\n",
      "\tReactive Power Generation : -15.709409836278402\n",
      "\t\tViolated Constraint : -8.0 <= -15.709409836278402 <= 23.0\n",
      "Bus 56 :\n",
      "\tReactive Power Generation : 17.66478039625501\n",
      "\t\tViolated Constraint : -8.0 <= 17.66478039625501 <= 15.0\n",
      "Bus 74 :\n",
      "\tReactive Power Generation : 11.145662417196487\n",
      "\t\tViolated Constraint : -6.0 <= 11.145662417196487 <= 9.0\n",
      "Bus 76 :\n",
      "\tReactive Power Generation : -17.92890513640784\n",
      "\t\tViolated Constraint : -8.0 <= -17.92890513640784 <= 23.0\n",
      "Bus 77 :\n",
      "\tReactive Power Generation : 86.08769177482351\n",
      "\t\tViolated Constraint : -20.0 <= 86.08769177482351 <= 70.0\n",
      "Bus 85 :\n",
      "\tReactive Power Generation : 161.1921161518034\n",
      "\t\tViolated Constraint : -8.0 <= 161.1921161518034 <= 23.0\n",
      "Bus 92 :\n",
      "\tReactive Power Generation : -5.20022261674767\n",
      "\t\tViolated Constraint : -3.0 <= -5.20022261674767 <= 9.0\n",
      "Bus 103 :\n",
      "\tReactive Power Generation : 74.4932839183431\n",
      "\t\tViolated Constraint : -15.0 <= 74.4932839183431 <= 40.0\n",
      "Bus 105 :\n",
      "\tReactive Power Generation : -31.642540366639015\n",
      "\t\tViolated Constraint : -8.0 <= -31.642540366639015 <= 23.0\n"
     ]
    }
   ],
   "source": [
    "# Same as before, we verify that the constraints were not violated. In my case, the solver arrives\n",
    "# at the same solution even if the reactive power generation setpoints were corrected\n",
    "\n",
    "for key in md.data['elements']['generator'].keys():\n",
    "    q_min = md.data['elements']['generator'][key]['q_min']\n",
    "    q_max = md.data['elements']['generator'][key]['q_max']\n",
    "    qg = md.data['elements']['generator'][key]['qg']\n",
    "    if not q_min <= qg <= q_max:\n",
    "        print(\"Bus\", md.data['elements']['generator'][key]['bus'], \":\")\n",
    "        print(\"\\tReactive Power Generation :\", qg)\n",
    "        print(\"\\t\\tViolated Constraint :\", q_min, \"<=\", qg, \"<=\", q_max)"
   ]
  },
  {
   "cell_type": "code",
   "execution_count": 33,
   "metadata": {},
   "outputs": [
    {
     "name": "stdout",
     "output_type": "stream",
     "text": [
      "Bus 2 :\n",
      "\tVoltage Magnitude : 0.8870470833038929\n",
      "\t\tViolated Constraint : 0.94 <= 0.8870470833038929 <= 1.06\n",
      "Bus 20 :\n",
      "\tVoltage Magnitude : 0.9123340907590275\n",
      "\t\tViolated Constraint : 0.94 <= 0.9123340907590275 <= 1.06\n",
      "Bus 21 :\n",
      "\tVoltage Magnitude : 0.8842757939964638\n",
      "\t\tViolated Constraint : 0.94 <= 0.8842757939964638 <= 1.06\n",
      "Bus 22 :\n",
      "\tVoltage Magnitude : 0.9054834687457627\n",
      "\t\tViolated Constraint : 0.94 <= 0.9054834687457627 <= 1.06\n",
      "Bus 51 :\n",
      "\tVoltage Magnitude : 0.9192213998291727\n",
      "\t\tViolated Constraint : 0.94 <= 0.9192213998291727 <= 1.06\n",
      "Bus 52 :\n",
      "\tVoltage Magnitude : 0.908366500817184\n",
      "\t\tViolated Constraint : 0.94 <= 0.908366500817184 <= 1.06\n",
      "Bus 53 :\n",
      "\tVoltage Magnitude : 0.9212238051691977\n",
      "\t\tViolated Constraint : 0.94 <= 0.9212238051691977 <= 1.06\n",
      "Bus 58 :\n",
      "\tVoltage Magnitude : 0.9123965283692741\n",
      "\t\tViolated Constraint : 0.94 <= 0.9123965283692741 <= 1.06\n",
      "Bus 86 :\n",
      "\tVoltage Magnitude : 0.9209025465882543\n",
      "\t\tViolated Constraint : 0.94 <= 0.9209025465882543 <= 1.06\n"
     ]
    }
   ],
   "source": [
    "# The same is true for the voltage magnitudes at the same busses as before\n",
    "\n",
    "for key in md.data['elements']['bus'].keys():\n",
    "    vm = md.data['elements']['bus'][key]['vm']\n",
    "    if not v_min <= vm <= v_max:\n",
    "        print(\"Bus\", key, \":\")\n",
    "        print(\"\\tVoltage Magnitude :\", vm)\n",
    "        print(\"\\t\\tViolated Constraint :\", v_min, \"<=\", vm, \"<=\", v_max)"
   ]
  },
  {
   "cell_type": "code",
   "execution_count": 34,
   "metadata": {},
   "outputs": [],
   "source": [
    "# From here on out, I am just gathering the data to convert it into a dataframe\n",
    "\n",
    "p_generated = [md.data['elements']['generator'][key]['pg']\n",
    "                    for key in md.data['elements']['generator'].keys()]\n",
    "\n",
    "q_generated = [md.data['elements']['generator'][key]['qg']\n",
    "                    for key in md.data['elements']['generator'].keys()]\n",
    "\n",
    "v_generated = [md.data['elements']['generator'][key]['vg']\n",
    "                    for key in md.data['elements']['generator'].keys()]\n",
    "\n",
    "vmg_at_bus = [md.data['elements']['bus'][key]['vm']\n",
    "                    for key in md.data['elements']['bus'].keys()]\n",
    "                    \n",
    "voltage_angle = [md.data['elements']['bus'][key]['va']\n",
    "                    for key in md.data['elements']['bus'].keys()]"
   ]
  },
  {
   "cell_type": "code",
   "execution_count": 35,
   "metadata": {},
   "outputs": [],
   "source": [
    "data = np.concatenate((p_generated, q_generated, v_generated, vmg_at_bus, voltage_angle))"
   ]
  },
  {
   "cell_type": "code",
   "execution_count": 36,
   "metadata": {},
   "outputs": [],
   "source": [
    "p_gen_cols = [\"p_gen{}\".format(i + 1) for i in range(54)]\n",
    "q_gen_cols = [\"q_gen{}\".format(i + 1) for i in range(54)]\n",
    "v_gen_cols = [\"v_gen{}\".format(i + 1) for i in range(54)]\n",
    "v_at_bus_cols = [\"v_at_bus{}\".format(i + 1) for i in range(118)]\n",
    "va_at_bus_cols = [\"va_at_bus{}\".format(i + 1) for i in range(118)]\n",
    "\n",
    "cols = np.concatenate((p_gen_cols, q_gen_cols, v_gen_cols, v_at_bus_cols, va_at_bus_cols))\n",
    "\n",
    "new_df = pd.DataFrame(data=[data], columns=cols)"
   ]
  },
  {
   "cell_type": "code",
   "execution_count": 37,
   "metadata": {},
   "outputs": [],
   "source": [
    "new_df['time_to_solve'] = results['Solver'][0]['Time']"
   ]
  },
  {
   "cell_type": "code",
   "execution_count": 38,
   "metadata": {},
   "outputs": [
    {
     "data": {
      "text/html": [
       "<div>\n",
       "<style scoped>\n",
       "    .dataframe tbody tr th:only-of-type {\n",
       "        vertical-align: middle;\n",
       "    }\n",
       "\n",
       "    .dataframe tbody tr th {\n",
       "        vertical-align: top;\n",
       "    }\n",
       "\n",
       "    .dataframe thead th {\n",
       "        text-align: right;\n",
       "    }\n",
       "</style>\n",
       "<table border=\"1\" class=\"dataframe\">\n",
       "  <thead>\n",
       "    <tr style=\"text-align: right;\">\n",
       "      <th></th>\n",
       "      <th>p_gen1</th>\n",
       "      <th>p_gen2</th>\n",
       "      <th>p_gen3</th>\n",
       "      <th>p_gen4</th>\n",
       "      <th>p_gen5</th>\n",
       "      <th>p_gen6</th>\n",
       "      <th>p_gen7</th>\n",
       "      <th>p_gen8</th>\n",
       "      <th>p_gen9</th>\n",
       "      <th>p_gen10</th>\n",
       "      <th>...</th>\n",
       "      <th>va_at_bus110</th>\n",
       "      <th>va_at_bus111</th>\n",
       "      <th>va_at_bus112</th>\n",
       "      <th>va_at_bus113</th>\n",
       "      <th>va_at_bus114</th>\n",
       "      <th>va_at_bus115</th>\n",
       "      <th>va_at_bus116</th>\n",
       "      <th>va_at_bus117</th>\n",
       "      <th>va_at_bus118</th>\n",
       "      <th>time_to_solve</th>\n",
       "    </tr>\n",
       "  </thead>\n",
       "  <tbody>\n",
       "    <tr>\n",
       "      <th>0</th>\n",
       "      <td>99.452442</td>\n",
       "      <td>17.099003</td>\n",
       "      <td>78.932786</td>\n",
       "      <td>13.149665</td>\n",
       "      <td>426.663473</td>\n",
       "      <td>100.677839</td>\n",
       "      <td>54.181558</td>\n",
       "      <td>37.167624</td>\n",
       "      <td>52.030772</td>\n",
       "      <td>2.98448</td>\n",
       "      <td>...</td>\n",
       "      <td>-18.454651</td>\n",
       "      <td>-17.742911</td>\n",
       "      <td>-18.137786</td>\n",
       "      <td>4.698496</td>\n",
       "      <td>3.54098</td>\n",
       "      <td>3.80597</td>\n",
       "      <td>21.728893</td>\n",
       "      <td>-1.256122</td>\n",
       "      <td>12.310784</td>\n",
       "      <td>0.134182</td>\n",
       "    </tr>\n",
       "  </tbody>\n",
       "</table>\n",
       "<p>1 rows × 399 columns</p>\n",
       "</div>"
      ],
      "text/plain": [
       "      p_gen1     p_gen2     p_gen3     p_gen4      p_gen5      p_gen6  \\\n",
       "0  99.452442  17.099003  78.932786  13.149665  426.663473  100.677839   \n",
       "\n",
       "      p_gen7     p_gen8     p_gen9  p_gen10  ...  va_at_bus110  va_at_bus111  \\\n",
       "0  54.181558  37.167624  52.030772  2.98448  ...    -18.454651    -17.742911   \n",
       "\n",
       "   va_at_bus112  va_at_bus113  va_at_bus114  va_at_bus115  va_at_bus116  \\\n",
       "0    -18.137786      4.698496       3.54098       3.80597     21.728893   \n",
       "\n",
       "   va_at_bus117  va_at_bus118  time_to_solve  \n",
       "0     -1.256122     12.310784       0.134182  \n",
       "\n",
       "[1 rows x 399 columns]"
      ]
     },
     "execution_count": 38,
     "metadata": {},
     "output_type": "execute_result"
    }
   ],
   "source": [
    "new_df"
   ]
  }
 ],
 "metadata": {
  "kernelspec": {
   "display_name": "Python 3.10.4 ('acopf_env')",
   "language": "python",
   "name": "python3"
  },
  "language_info": {
   "codemirror_mode": {
    "name": "ipython",
    "version": 3
   },
   "file_extension": ".py",
   "mimetype": "text/x-python",
   "name": "python",
   "nbconvert_exporter": "python",
   "pygments_lexer": "ipython3",
   "version": "3.10.4"
  },
  "orig_nbformat": 4,
  "vscode": {
   "interpreter": {
    "hash": "372c385abd6fb764a5399e47ff602b4c4d1b4bb74649debac8dcd16a59044be5"
   }
  }
 },
 "nbformat": 4,
 "nbformat_minor": 2
}
