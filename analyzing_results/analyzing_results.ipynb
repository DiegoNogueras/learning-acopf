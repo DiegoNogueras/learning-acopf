{
 "cells": [
  {
   "cell_type": "code",
   "execution_count": 1,
   "metadata": {},
   "outputs": [],
   "source": [
    "import pandas as pd\n",
    "import numpy as np\n",
    "import bus_bounds_data as bbd\n",
    "import helper_functions as hp"
   ]
  },
  {
   "cell_type": "code",
   "execution_count": 2,
   "metadata": {},
   "outputs": [],
   "source": [
    "X_train, X_test, y_train, y_test, df, slack_bus_data, scaler = hp.pre_process_data_from_file()"
   ]
  },
  {
   "cell_type": "code",
   "execution_count": 3,
   "metadata": {},
   "outputs": [],
   "source": [
    "X_test = hp.unscale_X_test_data(X_test, scaler)"
   ]
  },
  {
   "cell_type": "code",
   "execution_count": 4,
   "metadata": {},
   "outputs": [],
   "source": [
    "train_df = pd.read_csv(\"../data_preprocessing/case118_data3.csv\", index_col=0)\n",
    "train_df.reset_index(drop=True, inplace=True)"
   ]
  },
  {
   "cell_type": "code",
   "execution_count": 5,
   "metadata": {},
   "outputs": [],
   "source": [
    "test_df = pd.read_csv(\"../predicted_case118_data3.csv\", index_col=0)\n",
    "test_df.reset_index(drop=True, inplace=True)"
   ]
  },
  {
   "cell_type": "code",
   "execution_count": 6,
   "metadata": {},
   "outputs": [
    {
     "data": {
      "text/plain": [
       "0.3067982361364365"
      ]
     },
     "execution_count": 6,
     "metadata": {},
     "output_type": "execute_result"
    }
   ],
   "source": [
    "train_df['time_to_solve'].mean()"
   ]
  },
  {
   "cell_type": "code",
   "execution_count": 7,
   "metadata": {},
   "outputs": [
    {
     "data": {
      "text/plain": [
       "0.2106067347136792"
      ]
     },
     "execution_count": 7,
     "metadata": {},
     "output_type": "execute_result"
    }
   ],
   "source": [
    "test_df['time_to_solve'].mean()"
   ]
  },
  {
   "cell_type": "code",
   "execution_count": 8,
   "metadata": {},
   "outputs": [],
   "source": [
    "idx_arr = []\n",
    "for idx in range(len(X_test)):\n",
    "    row_idx = train_df[(train_df['p_load1'] == round(X_test[idx][0])) & (train_df['p_load2'] == round(X_test[idx][2])) &\n",
    "                       (train_df['p_load3'] == round(X_test[idx][4])) & (train_df['p_load4'] == round(X_test[idx][6]))].index[0]\n",
    "    \n",
    "    if row_idx == None:\n",
    "        print(\"Row not found in {} position\".format(idx))\n",
    "\n",
    "    idx_arr.append(row_idx)"
   ]
  },
  {
   "cell_type": "code",
   "execution_count": 9,
   "metadata": {},
   "outputs": [],
   "source": [
    "X_test_tc = train_df.iloc[idx_arr]['total_cost']\n",
    "X_test_tts = train_df.iloc[idx_arr]['time_to_solve']"
   ]
  },
  {
   "cell_type": "code",
   "execution_count": 10,
   "metadata": {},
   "outputs": [],
   "source": [
    "def speedup_factor(test_tts, pred_tts):\n",
    "    return sum(test_tts / pred_tts) / len(test_tts)"
   ]
  },
  {
   "cell_type": "code",
   "execution_count": 11,
   "metadata": {},
   "outputs": [
    {
     "data": {
      "text/plain": [
       "1.4577658076835815"
      ]
     },
     "execution_count": 11,
     "metadata": {},
     "output_type": "execute_result"
    }
   ],
   "source": [
    "speedup_factor(X_test_tts.values, test_df['time_to_solve'].values)"
   ]
  },
  {
   "cell_type": "code",
   "execution_count": 12,
   "metadata": {},
   "outputs": [],
   "source": [
    "from egret.parsers.matpower_parser import create_ModelData"
   ]
  },
  {
   "cell_type": "code",
   "execution_count": 13,
   "metadata": {},
   "outputs": [],
   "source": [
    "model_data = create_ModelData(\"../data_generation/case118_data/case118.txt\")"
   ]
  },
  {
   "cell_type": "code",
   "execution_count": 14,
   "metadata": {},
   "outputs": [],
   "source": [
    "total_costs = []\n",
    "for row in range(len(test_df)):\n",
    "    gen_costs = []\n",
    "    for idx, p_gen in zip(range(54), test_df.iloc[row, :54].values):\n",
    "        gen_costs.append(sum(v*p_gen**i for i, v in model_data.data['elements']['generator'][str(idx + 1)]['p_cost']['values'].items()))\n",
    "\n",
    "    total_costs.append(sum(gen_costs))"
   ]
  },
  {
   "cell_type": "code",
   "execution_count": 15,
   "metadata": {},
   "outputs": [],
   "source": [
    "def optimality(test_tc, pred_tc):\n",
    "    return sum((pred_tc - test_tc) / test_tc) / len(test_tc)"
   ]
  },
  {
   "cell_type": "code",
   "execution_count": 16,
   "metadata": {},
   "outputs": [
    {
     "data": {
      "text/plain": [
       "0.21138939970680867"
      ]
     },
     "execution_count": 16,
     "metadata": {},
     "output_type": "execute_result"
    }
   ],
   "source": [
    "optimality(X_test_tc.values, total_costs)"
   ]
  },
  {
   "cell_type": "code",
   "execution_count": 17,
   "metadata": {},
   "outputs": [],
   "source": [
    "def q_gen_infeasibility(data, num_of_gens):\n",
    "    q_gen_cols = [\"q_gen{}\".format(i + 1) for i in range(num_of_gens)]\n",
    "\n",
    "    infeasibility_df = pd.DataFrame(columns=q_gen_cols)\n",
    "\n",
    "    for col, key in zip(q_gen_cols, bbd.q_bounds.keys()):\n",
    "        infeasibility_df[col] = data[col].apply(lambda q_gen : max(bbd.q_bounds[key][\"q_min\"] - q_gen, 0) + max(q_gen - bbd.q_bounds[key][\"q_max\"], 0))\n",
    "\n",
    "    infeasibility_norms = infeasibility_df.apply(lambda x : np.linalg.norm(x), axis=1).values\n",
    "    \n",
    "    return sum(infeasibility_norms / len(q_gen_cols)) / len(infeasibility_norms)"
   ]
  },
  {
   "cell_type": "code",
   "execution_count": 18,
   "metadata": {},
   "outputs": [
    {
     "data": {
      "text/plain": [
       "2.604099833957622"
      ]
     },
     "execution_count": 18,
     "metadata": {},
     "output_type": "execute_result"
    }
   ],
   "source": [
    "q_gen_infeasibility(test_df, 54)"
   ]
  },
  {
   "cell_type": "code",
   "execution_count": 19,
   "metadata": {},
   "outputs": [],
   "source": [
    "Y_bus = hp.get_Ybus_Matrix(118, return_mag_ang=False)"
   ]
  },
  {
   "cell_type": "code",
   "execution_count": 20,
   "metadata": {},
   "outputs": [],
   "source": [
    "def feasibility(data, Y_bus, num_of_busses):\n",
    "    sums_of_balances = []\n",
    "    for i in range(num_of_busses):\n",
    "        power_balance = []\n",
    "        for j in range(num_of_busses):\n",
    "            Vi = data['v_at_bus{}'.format(i + 1)].values\n",
    "            Vj = data['v_at_bus{}'.format(j + 1)].values\n",
    "            Gij = np.real(Y_bus[i][j])\n",
    "            Bij = np.imag(Y_bus[i][j])\n",
    "            Aij = data['va_at_bus{}'.format(i + 1)].values - data['va_at_bus{}'.format(j + 1)].values\n",
    "\n",
    "            power_balance.append(Vi * Vj * ((Gij * np.cos(Aij)) + (Bij * np.sin(Aij))))\n",
    "\n",
    "        sums_of_balances.append(sum(power_balance))\n",
    "\n",
    "    feasibility_norms = np.linalg.norm(sums_of_balances, axis=0)\n",
    "\n",
    "    return max(feasibility_norms)\n"
   ]
  },
  {
   "cell_type": "code",
   "execution_count": 21,
   "metadata": {},
   "outputs": [
    {
     "data": {
      "text/plain": [
       "405.2771396006099"
      ]
     },
     "execution_count": 21,
     "metadata": {},
     "output_type": "execute_result"
    }
   ],
   "source": [
    "feasibility(test_df, Y_bus, 118)"
   ]
  },
  {
   "cell_type": "code",
   "execution_count": null,
   "metadata": {},
   "outputs": [],
   "source": []
  }
 ],
 "metadata": {
  "kernelspec": {
   "display_name": "Python 3.10.4 ('acopf_env')",
   "language": "python",
   "name": "python3"
  },
  "language_info": {
   "codemirror_mode": {
    "name": "ipython",
    "version": 3
   },
   "file_extension": ".py",
   "mimetype": "text/x-python",
   "name": "python",
   "nbconvert_exporter": "python",
   "pygments_lexer": "ipython3",
   "version": "3.10.4"
  },
  "orig_nbformat": 4,
  "vscode": {
   "interpreter": {
    "hash": "372c385abd6fb764a5399e47ff602b4c4d1b4bb74649debac8dcd16a59044be5"
   }
  }
 },
 "nbformat": 4,
 "nbformat_minor": 2
}
